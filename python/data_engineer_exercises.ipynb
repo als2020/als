{
 "cells": [
  {
   "cell_type": "code",
   "execution_count": null,
   "metadata": {},
   "outputs": [],
   "source": [
    "import pandas as pd"
   ]
  },
  {
   "cell_type": "code",
   "execution_count": null,
   "metadata": {},
   "outputs": [],
   "source": [
    "#Constituent information\n",
    "ci = pd.read_csv(\"data/cons.csv\")\n",
    "#Constituent email addresses \n",
    "ce = pd.read_csv(\"data/cons_email.csv\")\n",
    "#Constituent subscription status\n",
    "css = pd.read_csv(\"data/cons_email_chapter_subscription.csv\")"
   ]
  },
  {
   "cell_type": "markdown",
   "metadata": {},
   "source": [
    "## Exercise 1\n",
    "Produce a “people” file with the following schema. Save it as a CSV with a header line to the working directory.\n",
    "![exercise1](images/exercise1.png)"
   ]
  },
  {
   "cell_type": "code",
   "execution_count": null,
   "metadata": {},
   "outputs": [],
   "source": [
    "#Select necessary columns\n",
    "cons_email = ce[['cons_email_id', 'cons_id', 'email', 'is_primary']]\n",
    "\n",
    "cons_info = ci[['cons_id', 'subsource', 'create_dt', 'modified_dt']]\n",
    "\n",
    "cons_sub_status = css[['cons_email_id', 'isunsub', 'chapter_id']]"
   ]
  },
  {
   "cell_type": "code",
   "execution_count": null,
   "metadata": {},
   "outputs": [],
   "source": [
    "#Merge dataframes\n",
    "cons_info_and_emails = pd.merge(cons_info, cons_email, how='left', on='cons_id')\n",
    "with_sub_status = pd.merge(cons_info_and_emails, cons_sub_status, how = 'left', on = 'cons_email_id')"
   ]
  },
  {
   "cell_type": "code",
   "execution_count": null,
   "metadata": {},
   "outputs": [],
   "source": [
    "#Filter chapter_id and is_primary\n",
    "filter_df = with_sub_status[with_sub_status['chapter_id'] == 1]\n",
    "filter_df = with_sub_status[with_sub_status['is_primary'] == 1]"
   ]
  },
  {
   "cell_type": "code",
   "execution_count": null,
   "metadata": {},
   "outputs": [],
   "source": [
    "#Rename columns\n",
    "people = filter_df[[\"email\", \"subsource\", \"isunsub\", \"create_dt\", \"modified_dt\"]]\n",
    "people = people.rename(columns={\"subsource\": \"code\", \n",
    "                       \"isunsub\": \"is_unsub\", \n",
    "                       \"create_dt\" : \"created_dt\", \n",
    "                       \"modified_dt\" : \"updated_dt\"})"
   ]
  },
  {
   "cell_type": "code",
   "execution_count": null,
   "metadata": {},
   "outputs": [],
   "source": [
    "#Convert data types\n",
    "people['email'] = people['email'].astype('str')\n",
    "people['code'] = people['code'].astype('str')\n",
    "people['is_unsub'] = people['is_unsub'].astype('bool')\n",
    "people['created_dt'] =  pd.to_datetime(people['created_dt'], format='%a, %Y-%m-%d %H:%M:%S')\n",
    "people['updated_dt'] =  pd.to_datetime(people['updated_dt'], format='%a, %Y-%m-%d %H:%M:%S')"
   ]
  },
  {
   "cell_type": "markdown",
   "metadata": {},
   "source": [
    "## Exercise 2\n",
    "Produce an “acquisition_facts” file with the following schema that aggregates stats about when people in the dataset were acquired. Save it to the working directory.\n",
    "![exercise2](images/exercise2.png)"
   ]
  },
  {
   "cell_type": "code",
   "execution_count": null,
   "metadata": {},
   "outputs": [],
   "source": [
    "#Select necessary column \n",
    "acquisition_facts = ci[['create_dt']]"
   ]
  },
  {
   "cell_type": "code",
   "execution_count": null,
   "metadata": {},
   "outputs": [],
   "source": [
    "#Mutating create_dt column\n",
    "acquisition_facts[\"create_dt\"].replace('\\\\b(Sun|Mon|Tue|Wed|Thu|Fri|Sat)\\\\b,','',regex=True, inplace = True)\n",
    "acquisition_facts[\"create_dt\"].replace('[0-9]{2}:[0-9]{2}:[0-9]{2}', \"\", regex=True, inplace = True)"
   ]
  },
  {
   "cell_type": "code",
   "execution_count": null,
   "metadata": {},
   "outputs": [],
   "source": [
    "#Rename create_dt to acquisition_date\n",
    "acquisition_facts = acquisition_facts.rename(columns={\"create_dt\": \"acquisition_date\"})"
   ]
  },
  {
   "cell_type": "code",
   "execution_count": null,
   "metadata": {},
   "outputs": [],
   "source": [
    "#Sort and count dates \n",
    "acquisition_facts = acquisition_facts.groupby(['acquisition_date'])['acquisition_date'].agg(['count']) "
   ]
  },
  {
   "cell_type": "code",
   "execution_count": null,
   "metadata": {},
   "outputs": [],
   "source": [
    "#Rename column\n",
    "acquisition_facts = acquisition_facts.rename(columns={\"count\": \"acquisitions\"})"
   ]
  }
 ],
 "metadata": {
  "kernelspec": {
   "display_name": "Python 3",
   "language": "python",
   "name": "python3"
  },
  "language_info": {
   "codemirror_mode": {
    "name": "ipython",
    "version": 3
   },
   "file_extension": ".py",
   "mimetype": "text/x-python",
   "name": "python",
   "nbconvert_exporter": "python",
   "pygments_lexer": "ipython3",
   "version": "3.7.3"
  }
 },
 "nbformat": 4,
 "nbformat_minor": 2
}
